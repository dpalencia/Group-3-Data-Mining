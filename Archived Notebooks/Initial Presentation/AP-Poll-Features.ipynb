{
 "cells": [
  {
   "cell_type": "code",
   "execution_count": 38,
   "metadata": {},
   "outputs": [],
   "source": [
    "import pandas as pd\n",
    "import numpy as np\n",
    "import seaborn as sns\n",
    "pd.options.display.max_seq_items = 2000\n",
    "pd.set_option('display.max_rows', 2000)"
   ]
  },
  {
   "cell_type": "code",
   "execution_count": 15,
   "metadata": {},
   "outputs": [],
   "source": [
    "apdata = pd.read_csv(\"../datasets/AP_VOTECAST_2018_DATA.csv\", engine='python')"
   ]
  },
  {
   "cell_type": "code",
   "execution_count": 19,
   "metadata": {},
   "outputs": [
    {
     "data": {
      "text/plain": [
       "SU_ID                          int64\n",
       "POLLCLOSE_STATE_WEIGHT       float64\n",
       "POLLCLOSE_NATIONAL_WEIGHT    float64\n",
       "FINALVOTE_STATE_WEIGHT       float64\n",
       "FINALVOTE_NATIONAL_WEIGHT    float64\n",
       "MODE                          object\n",
       "P_STATE                       object\n",
       "STATENUM                      object\n",
       "LVA                           object\n",
       "LVB                           object\n",
       "LV                            object\n",
       "LIKELYVOTER                   object\n",
       "WVA                           object\n",
       "WVB                           object\n",
       "TIMEVOTE                      object\n",
       "RACE1_VOTE                    object\n",
       "RACE1_PARTY                   object\n",
       "RACE1_RACEID                  object\n",
       "RACE1_OFFICEID                object\n",
       "RACE1_RACETYPEID              object\n",
       "RACE2_VOTE                    object\n",
       "RACE2_PARTY                   object\n",
       "RACE2_RACEID                  object\n",
       "RACE2_OFFICEID                object\n",
       "RACE2_RACETYPEID              object\n",
       "RACE3_VOTE                    object\n",
       "RACE3_PARTY                   object\n",
       "RACE3_RACEID                  object\n",
       "RACE3_OFFICEID                object\n",
       "RACE3_RACETYPEID              object\n",
       "RACE4_VOTE                    object\n",
       "RACE4_PARTY                   object\n",
       "RACE4_RACEID                  object\n",
       "RACE4_OFFICEID                object\n",
       "RACE4_RACETYPEID              object\n",
       "RACE5_VOTE                    object\n",
       "RACE5_PARTY                   object\n",
       "RACE5_RACEID                  object\n",
       "RACE5_OFFICEID                object\n",
       "RACE5_RACETYPEID              object\n",
       "BALLOT1_VOTE                  object\n",
       "BALLOT1_PARTY                 object\n",
       "BALLOT1_RACEID                object\n",
       "BALLOT1_OFFICEID              object\n",
       "BALLOT1_RACETYPEID            object\n",
       "SENVOTE                       object\n",
       "SENSPVOTE                     object\n",
       "GOVVOTE                       object\n",
       "MAINECHOICE2                  object\n",
       "TRACK                         object\n",
       "ISSUES                        object\n",
       "LIFE                          object\n",
       "PRESAPP4                      object\n",
       "TRUMPFACTOR3                  object\n",
       "TRUMPTRAITSTEMPERAMENT        object\n",
       "TRUMPTRAITSCHANGE             object\n",
       "TRUMPTRAITSLEADER             object\n",
       "TRUMPTRAITSHONEST             object\n",
       "TRUMPTRAITSCARES              object\n",
       "TRUMPTRAITSSTANDSUP           object\n",
       "TRUMPJOBECON                  object\n",
       "TRUMPJOBHEALTH                object\n",
       "TRUMPJOBIMMIG                 object\n",
       "TRUMPJOBTRADE                 object\n",
       "TRUMPJOBSCOTUS                object\n",
       "TRUMPJOBBORDER                object\n",
       "FAVTRUMP                      object\n",
       "FAVREP                        object\n",
       "FAVDEM                        object\n",
       "FAVSENDEM                     object\n",
       "FAVSENREP                     object\n",
       "FAVSENIND                     object\n",
       "FAVGOVDEM                     object\n",
       "FAVGOVREP                     object\n",
       "FAVGOVIND                     object\n",
       "FAVFEINSTEIN                  object\n",
       "FAVDELEON                     object\n",
       "FAVSSENSPECIALDEM             object\n",
       "FAVSSENSPECIALREP             object\n",
       "FAVESPY                       object\n",
       "FAVHYDESMITH                  object\n",
       "FAVMCDANIEL                   object\n",
       "SUPREMECOURT                  object\n",
       "PARTYCONTROL                  object\n",
       "CONGRESSJOB4                  object\n",
       "TRUSTGOVT                     object\n",
       "ETHICS                        object\n",
       "GOVTANGR                      object\n",
       "GOVTDO                        object\n",
       "NEC                           object\n",
       "GETAHEAD                      object\n",
       "TRADENATIONALECON             object\n",
       "TRADELOCALECON                object\n",
       "ECONFAIRWEALTHY               object\n",
       "ECONFAIRMIDDLE                object\n",
       "ECONFAIRPOOR                  object\n",
       "TAXCUTS                       object\n",
       "HEALTHLAW                     object\n",
       "HEALTHGOV                     object\n",
       "IMMDEPORT                     object\n",
       "IMMBETTER                     object\n",
       "IMMWALL                       object\n",
       "RACEREL                       object\n",
       "CLIMATE                       object\n",
       "GUNPOLICY                     object\n",
       "ABORTION                      object\n",
       "METOOBELIEVE                  object\n",
       "METOODEFEND                   object\n",
       "PCSPEECH                      object\n",
       "MARIJUANA                     object\n",
       "OPIOID                        object\n",
       "SAFETERROR                    object\n",
       "SAFECRIME                     object\n",
       "SAFECYBER                     object\n",
       "RUSSIA                        object\n",
       "INTERFERENCE                  object\n",
       "Q2020VOTE                     object\n",
       "REPINTENTIONS                 object\n",
       "DEMINTENTIONS                 object\n",
       "ATTENDANCE                    object\n",
       "MARRIED                       object\n",
       "MARRIED2                      object\n",
       "GUNOWNER                      object\n",
       "UNION                         object\n",
       "VET                           object\n",
       "LGB                           object\n",
       "TRANSGENDER                   object\n",
       "BORNCITIZEN                   object\n",
       "GOVJOBKASICH4                 object\n",
       "GOVJOBSNYDER4                 object\n",
       "FAVSESSIONS                   object\n",
       "FAVJONES                      object\n",
       "FAVPALIN                      object\n",
       "FAVFLAKE                      object\n",
       "FAVCOTTON                     object\n",
       "FAVBOOZMAN                    object\n",
       "FAVEMANUEL                    object\n",
       "FAVPENCE                      object\n",
       "FAVFRANKEN                    object\n",
       "FAVINSLEE                     object\n",
       "MEDICAID                      object\n",
       "SPORTSBETTING                 object\n",
       "CASINOS                       object\n",
       "JOBSIT                        object\n",
       "AKDIVIDENDS                   object\n",
       "DEATHPENALTY                  object\n",
       "AFFHOUSING                    object\n",
       "TEACHERSTRIKES                object\n",
       "SECONDCHANCELAW               object\n",
       "ILBUDGET                      object\n",
       "CORRUPTION                    object\n",
       "TEACHERSUNIONS                object\n",
       "EDBUDGET                      object\n",
       "TRANSPORTATION                object\n",
       "PROSTITUTION                  object\n",
       "GOVWORKER                     object\n",
       "INCOMETAX                     object\n",
       "ENERGY                        object\n",
       "COALHH                        object\n",
       "OPIOIDEXP                     object\n",
       "ENDANGEREDSPECIES             object\n",
       "MURKOWSKISC                   object\n",
       "COLLINSSC                     object\n",
       "GASTAX                        object\n",
       "HARRISPRES                    object\n",
       "MURPHYPRES                    object\n",
       "BIDENPRES                     object\n",
       "MAPRESWARREN                  object\n",
       "MAPRESPATRICK                 object\n",
       "NYPRESBLOOMBERG               object\n",
       "NYPRESGILLIBRAND              object\n",
       "KLOBUCHARPRES                 object\n",
       "MERKLEYPRES                   object\n",
       "SANDERSPRES                   object\n",
       "UNFAIRFLGILLUM                object\n",
       "UNFAIRFLDESANTIS              object\n",
       "UNFAIRNJMENENDEZ              object\n",
       "UNFAIRNJHUGIN                 object\n",
       "COMARIJUANA                   object\n",
       "REDTIDE                       object\n",
       "FIRSTBLACKGOV                 object\n",
       "ALLOWEDVOTE                   object\n",
       "EASEVOTING                    object\n",
       "EMERGENCYRESPONSE             object\n",
       "TRADEDEMVSREP                 object\n",
       "KSTAX                         object\n",
       "MSHYDESMITHVSESPY             object\n",
       "MSMCDANIELVSESPY              object\n",
       "PREEXISTINGCOND               object\n",
       "Q2020EXCITEMENT               object\n",
       "HONESTMENENDEZ                object\n",
       "HONESTHUGIN                   object\n",
       "TAYLOR                        object\n",
       "CONFEDERATEFLAG               object\n",
       "OROURKETOOLIBERAL             object\n",
       "CRUZFOCUS                     object\n",
       "ROMNEYTRUMP                   object\n",
       "QPVVOTE                       object\n",
       "Q2016VOTE                     object\n",
       "FIRSTTIME                     object\n",
       "QPVVOTE3                      object\n",
       "WNV                           object\n",
       "BREAKA                        object\n",
       "BREAKB                        object\n",
       "BREAKC                        object\n",
       "SEX                           object\n",
       "AGE65                         object\n",
       "RACETH                        object\n",
       "RACETH5                       object\n",
       "CUBAN                         object\n",
       "EDUC                          object\n",
       "INCOME                        object\n",
       "PARTY                         object\n",
       "PARTYFULL                     object\n",
       "IDEO                          object\n",
       "RELIG                         object\n",
       "RELIG4                        object\n",
       "BORNAGAIN                     object\n",
       "SIZEPLACE                     object\n",
       "FORMFLAG                      object\n",
       "dtype: object"
      ]
     },
     "execution_count": 19,
     "metadata": {},
     "output_type": "execute_result"
    }
   ],
   "source": [
    "apdata.dtypes"
   ]
  },
  {
   "cell_type": "markdown",
   "metadata": {},
   "source": [
    "# Identify the most relevant attributes and their types"
   ]
  },
  {
   "cell_type": "code",
   "execution_count": 29,
   "metadata": {},
   "outputs": [
    {
     "data": {
      "text/plain": [
       "(5) $100,000 or more                     33227\n",
       "(2) $25,000-$49,999                      32769\n",
       "(3) $50,000-$74,999                      29128\n",
       "(4) $75,000-$99,999                      22494\n",
       "(1) Under $25,000                        19641\n",
       "(99) DON’T KNOW/SKIPPED/REFUSED (VOL)     1670\n",
       "Name: INCOME, dtype: int64"
      ]
     },
     "execution_count": 29,
     "metadata": {},
     "output_type": "execute_result"
    }
   ],
   "source": [
    "# Income: Ordinal\n",
    "apdata[\"INCOME\"].value_counts()"
   ]
  },
  {
   "cell_type": "code",
   "execution_count": 48,
   "metadata": {},
   "outputs": [
    {
     "data": {
      "text/plain": [
       "(1) White                                105426\n",
       "(2) African American or Black             12075\n",
       "(3) Latino or Hispanic                    10633\n",
       "(5) Other                                  7125\n",
       "(4) Asian                                  3301\n",
       "(99) DON’T KNOW/SKIPPED/REFUSED (VOL)       369\n",
       "Name: RACETH5, dtype: int64"
      ]
     },
     "execution_count": 48,
     "metadata": {},
     "output_type": "execute_result"
    }
   ],
   "source": [
    "# Race: Categorical\n",
    "apdata[\"RACETH5\"].value_counts()"
   ]
  },
  {
   "cell_type": "code",
   "execution_count": 30,
   "metadata": {},
   "outputs": [
    {
     "data": {
      "text/plain": [
       "(2) Women                                86025\n",
       "(1) Men                                  52861\n",
       "(99) DON’T KNOW/SKIPPED/REFUSED (VOL)       43\n",
       "Name: SEX, dtype: int64"
      ]
     },
     "execution_count": 30,
     "metadata": {},
     "output_type": "execute_result"
    }
   ],
   "source": [
    "# Sex: Categorical\n",
    "apdata[\"SEX\"].value_counts()"
   ]
  },
  {
   "cell_type": "code",
   "execution_count": 31,
   "metadata": {},
   "outputs": [
    {
     "data": {
      "text/plain": [
       "(1) Likely voter    116792\n",
       "(2) Nonvoter         22137\n",
       "Name: LIKELYVOTER, dtype: int64"
      ]
     },
     "execution_count": 31,
     "metadata": {},
     "output_type": "execute_result"
    }
   ],
   "source": [
    "# Likely voter: Binary attributwe\n",
    "apdata[\"LIKELYVOTER\"].value_counts()"
   ]
  },
  {
   "cell_type": "code",
   "execution_count": 34,
   "metadata": {},
   "outputs": [
    {
     "data": {
      "text/plain": [
       "(WI) Wisconsin         5443\n",
       "(MN) Minnesota         5021\n",
       "(WA) Washington        5002\n",
       "(TX) Texas             4959\n",
       "(PA) Pennsylvania      4923\n",
       "(NY) New York          4920\n",
       "(CA) California        4887\n",
       "(VA) Virginia          4874\n",
       "(IN) Indiana           4828\n",
       "(FL) Florida           4805\n",
       "(MI) Michigan          4796\n",
       "(KS) Kansas            4778\n",
       "(OH) Ohio              4744\n",
       "(GA) Georgia           4729\n",
       "(MO) Missouri          4727\n",
       "(TN) Tennessee         4720\n",
       "(AZ) Arizona           4682\n",
       "(MA) Massachusetts     4677\n",
       "(MD) Maryland          4663\n",
       "(NJ) New Jersey        4615\n",
       "(NV) Nevada            4080\n",
       "(MS) Mississippi       3889\n",
       "(WV) West Virginia     3496\n",
       "(NH) New Hampshire     3287\n",
       "(MT) Montana           2933\n",
       "(IL) Illinois          1257\n",
       "(ND) North Dakota      1256\n",
       "(CO) Colorado          1148\n",
       "(IA) Iowa              1079\n",
       "(OR) Oregon            1072\n",
       "(AL) Alabama           1068\n",
       "(NE) Nebraska          1063\n",
       "(SC) South Carolina    1052\n",
       "(OK) Oklahoma          1051\n",
       "(ID) Idaho             1049\n",
       "(DE) Delaware          1049\n",
       "(CT) Connecticut       1039\n",
       "(AR) Arkansas          1038\n",
       "(UT) Utah              1036\n",
       "(ME) Maine             1022\n",
       "(RI) Rhode Island      1012\n",
       "(NM) New Mexico        1003\n",
       "(HI) Hawaii             980\n",
       "(NC) North Carolina     906\n",
       "(SD) South Dakota       852\n",
       "(LA) Louisiana          852\n",
       "(KY) Kentucky           827\n",
       "(VT) Vermont            727\n",
       "(WY) Wyoming            535\n",
       "(AK) Alaska             478\n",
       "Name: P_STATE, dtype: int64"
      ]
     },
     "execution_count": 34,
     "metadata": {},
     "output_type": "execute_result"
    }
   ],
   "source": [
    "# State: categorical\n",
    "apdata[\"P_STATE\"].value_counts()"
   ]
  },
  {
   "cell_type": "code",
   "execution_count": 36,
   "metadata": {},
   "outputs": [
    {
     "data": {
      "text/plain": [
       "(1) Democrat                             52534\n",
       "(3) Neither                              44704\n",
       "(2) Republican                           41587\n",
       "(99) DON’T KNOW/SKIPPED/REFUSED (VOL)      104\n",
       "Name: PARTY, dtype: int64"
      ]
     },
     "execution_count": 36,
     "metadata": {},
     "output_type": "execute_result"
    }
   ],
   "source": [
    "# Party Affiliation: Categorical\n",
    "apdata[\"PARTY\"].value_counts()"
   ]
  },
  {
   "cell_type": "code",
   "execution_count": 37,
   "metadata": {},
   "outputs": [
    {
     "data": {
      "text/plain": [
       "(1) Democrat/Lean Dem      67298\n",
       "(2) Republican/Lean Rep    53637\n",
       "(3) Independent            17994\n",
       "Name: PARTYFULL, dtype: int64"
      ]
     },
     "execution_count": 37,
     "metadata": {},
     "output_type": "execute_result"
    }
   ],
   "source": [
    "# Party leanings: categorical\n",
    "apdata[\"PARTYFULL\"].value_counts()"
   ]
  },
  {
   "cell_type": "code",
   "execution_count": 40,
   "metadata": {},
   "outputs": [
    {
     "data": {
      "text/plain": [
       "(888888) House of Representatives General Election    138929\n",
       "Name: RACE5_RACEID, dtype: int64"
      ]
     },
     "execution_count": 40,
     "metadata": {},
     "output_type": "execute_result"
    }
   ],
   "source": [
    "# \"RACE5\" House of Representatives Race\n",
    "apdata[\"RACE5_RACEID\"].value_counts()"
   ]
  },
  {
   "cell_type": "code",
   "execution_count": 41,
   "metadata": {},
   "outputs": [
    {
     "data": {
      "text/plain": [
       "(1) Democrat      72893\n",
       "(2) Republican    53782\n",
       "(6) Other          8444\n",
       "Name: RACE5_PARTY, dtype: int64"
      ]
     },
     "execution_count": 41,
     "metadata": {},
     "output_type": "execute_result"
    }
   ],
   "source": [
    "# RACE5_PARTY: Which party representative they will vote for\n",
    "apdata[\"RACE5_PARTY\"].value_counts()"
   ]
  },
  {
   "cell_type": "code",
   "execution_count": 42,
   "metadata": {},
   "outputs": [
    {
     "data": {
      "text/plain": [
       "(8) None                                 29591\n",
       "(1) Protestant                           29349\n",
       "(2) Catholic                             26480\n",
       "(4) Other Christian                      25124\n",
       "(88) REMOVED FOR DISCLOSURE RISK         11721\n",
       "(7) Something else                       10404\n",
       "(5) Jewish                                3777\n",
       "(3) Mormon                                1133\n",
       "(6) Muslim                                 706\n",
       "(99) DON’T KNOW/SKIPPED/REFUSED (VOL)      644\n",
       "Name: RELIG, dtype: int64"
      ]
     },
     "execution_count": 42,
     "metadata": {},
     "output_type": "execute_result"
    }
   ],
   "source": [
    "# Religion of the respondent\n",
    "apdata[\"RELIG\"].value_counts()"
   ]
  },
  {
   "cell_type": "code",
   "execution_count": 43,
   "metadata": {},
   "outputs": [
    {
     "data": {
      "text/plain": [
       "(2) Suburban                             58234\n",
       "(3) Small town                           27972\n",
       "(1) Urban                                27336\n",
       "(4) Rural                                24956\n",
       "(99) DON’T KNOW/SKIPPED/REFUSED (VOL)      431\n",
       "Name: SIZEPLACE, dtype: int64"
      ]
     },
     "execution_count": 43,
     "metadata": {},
     "output_type": "execute_result"
    }
   ],
   "source": [
    "# SIZEPLACE: Rural, urban, small town, etc.\n",
    "apdata[\"SIZEPLACE\"].value_counts()"
   ]
  },
  {
   "cell_type": "code",
   "execution_count": 44,
   "metadata": {},
   "outputs": [
    {
     "data": {
      "text/plain": [
       "(3) Moderate                             51173\n",
       "(2) Somewhat liberal                     28244\n",
       "(4) Somewhat conservative                27466\n",
       "(1) Very liberal                         16143\n",
       "(5) Very conservative                    15317\n",
       "(99) DON’T KNOW/SKIPPED/REFUSED (VOL)      586\n",
       "Name: IDEO, dtype: int64"
      ]
     },
     "execution_count": 44,
     "metadata": {},
     "output_type": "execute_result"
    }
   ],
   "source": [
    "# Political leanings\n",
    "apdata[\"IDEO\"].value_counts()"
   ]
  },
  {
   "cell_type": "code",
   "execution_count": 45,
   "metadata": {},
   "outputs": [
    {
     "data": {
      "text/plain": [
       "(2) Some college/assoc. degree           51945\n",
       "(3) College graduate                     38627\n",
       "(4) Postgraduate study                   26241\n",
       "(1) High school or less                  22075\n",
       "(99) DON’T KNOW/SKIPPED/REFUSED (VOL)       41\n",
       "Name: EDUC, dtype: int64"
      ]
     },
     "execution_count": 45,
     "metadata": {},
     "output_type": "execute_result"
    }
   ],
   "source": [
    "# Education\n",
    "apdata[\"EDUC\"].value_counts()"
   ]
  },
  {
   "cell_type": "code",
   "execution_count": 49,
   "metadata": {},
   "outputs": [
    {
     "data": {
      "text/plain": [
       "(2) No                                   37210\n",
       "(1) Yes                                   2727\n",
       "(99) DON’T KNOW/SKIPPED/REFUSED (VOL)      175\n",
       "Name: LGB, dtype: int64"
      ]
     },
     "execution_count": 49,
     "metadata": {},
     "output_type": "execute_result"
    }
   ],
   "source": [
    "# LGB\n",
    "apdata[\"LGB\"].value_counts()"
   ]
  },
  {
   "cell_type": "code",
   "execution_count": 50,
   "metadata": {},
   "outputs": [
    {
     "data": {
      "text/plain": [
       "(2) No                                   36656\n",
       "(88) REMOVED FOR DISCLOSURE RISK          2795\n",
       "(1) Yes                                    358\n",
       "(99) DON’T KNOW/SKIPPED/REFUSED (VOL)      303\n",
       "Name: TRANSGENDER, dtype: int64"
      ]
     },
     "execution_count": 50,
     "metadata": {},
     "output_type": "execute_result"
    }
   ],
   "source": [
    "# Transgender: nominawl\n",
    "apdata[\"TRANSGENDER\"].value_counts()"
   ]
  },
  {
   "cell_type": "code",
   "execution_count": 51,
   "metadata": {},
   "outputs": [
    {
     "data": {
      "text/plain": [
       "(3) No                                   34363\n",
       "(2) Veteran in household                  8730\n",
       "(1) Veteran, self                         6238\n",
       "(99) DON’T KNOW/SKIPPED/REFUSED (VOL)       57\n",
       "Name: VET, dtype: int64"
      ]
     },
     "execution_count": 51,
     "metadata": {},
     "output_type": "execute_result"
    }
   ],
   "source": [
    "# Veteran status: nominal\n",
    "apdata[\"VET\"].value_counts()"
   ]
  },
  {
   "cell_type": "code",
   "execution_count": 52,
   "metadata": {},
   "outputs": [
    {
     "data": {
      "text/plain": [
       "(3) No                                   56552\n",
       "(1) Union member, self                    6205\n",
       "(2) Union member in household             4791\n",
       "(99) DON’T KNOW/SKIPPED/REFUSED (VOL)      207\n",
       "Name: UNION, dtype: int64"
      ]
     },
     "execution_count": 52,
     "metadata": {},
     "output_type": "execute_result"
    }
   ],
   "source": [
    "# Union membership: nominal\n",
    "apdata[\"UNION\"].value_counts()"
   ]
  },
  {
   "cell_type": "code",
   "execution_count": null,
   "metadata": {},
   "outputs": [],
   "source": []
  }
 ],
 "metadata": {
  "kernelspec": {
   "display_name": "Python 3",
   "language": "python",
   "name": "python3"
  },
  "language_info": {
   "codemirror_mode": {
    "name": "ipython",
    "version": 3
   },
   "file_extension": ".py",
   "mimetype": "text/x-python",
   "name": "python",
   "nbconvert_exporter": "python",
   "pygments_lexer": "ipython3",
   "version": "3.7.6"
  }
 },
 "nbformat": 4,
 "nbformat_minor": 4
}
