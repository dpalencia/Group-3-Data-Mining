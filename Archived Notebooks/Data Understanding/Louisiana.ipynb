{
 "cells": [
  {
   "cell_type": "code",
   "execution_count": 1,
   "metadata": {},
   "outputs": [],
   "source": [
    "import os\n",
    "import matplotlib.pyplot as plot\n",
    "import geopandas as gpd\n",
    "import earthpy as et\n",
    "import matplotlib.pyplot as plt"
   ]
  },
  {
   "cell_type": "code",
   "execution_count": 2,
   "metadata": {},
   "outputs": [],
   "source": [
    "# Test out plotting our shape file\n",
    "districts = gpd.read_file(\"../../Shapefiles/tl_2018_us_cd116.shp\")\n",
    "demo_votecounts = pd.read_csv(\"./datasets/\")"
   ]
  },
  {
   "cell_type": "code",
   "execution_count": 16,
   "metadata": {},
   "outputs": [
    {
     "data": {
      "text/plain": [
       "Index(['STATEFP', 'CD116FP', 'GEOID', 'NAMELSAD', 'LSAD', 'CDSESSN', 'MTFCC',\n",
       "       'FUNCSTAT', 'ALAND', 'AWATER', 'INTPTLAT', 'INTPTLON', 'geometry'],\n",
       "      dtype='object')"
      ]
     },
     "execution_count": 16,
     "metadata": {},
     "output_type": "execute_result"
    }
   ],
   "source": [
    "districts.columns"
   ]
  },
  {
   "cell_type": "code",
   "execution_count": 18,
   "metadata": {},
   "outputs": [
    {
     "data": {
      "text/plain": [
       "STATEFP       object\n",
       "CD116FP       object\n",
       "GEOID         object\n",
       "NAMELSAD      object\n",
       "LSAD          object\n",
       "CDSESSN       object\n",
       "MTFCC         object\n",
       "FUNCSTAT      object\n",
       "ALAND          int64\n",
       "AWATER         int64\n",
       "INTPTLAT      object\n",
       "INTPTLON      object\n",
       "geometry    geometry\n",
       "dtype: object"
      ]
     },
     "execution_count": 18,
     "metadata": {},
     "output_type": "execute_result"
    }
   ],
   "source": [
    "districts.dtypes"
   ]
  },
  {
   "cell_type": "code",
   "execution_count": 3,
   "metadata": {},
   "outputs": [
    {
     "data": {
      "text/html": [
       "<div>\n",
       "<style scoped>\n",
       "    .dataframe tbody tr th:only-of-type {\n",
       "        vertical-align: middle;\n",
       "    }\n",
       "\n",
       "    .dataframe tbody tr th {\n",
       "        vertical-align: top;\n",
       "    }\n",
       "\n",
       "    .dataframe thead th {\n",
       "        text-align: right;\n",
       "    }\n",
       "</style>\n",
       "<table border=\"1\" class=\"dataframe\">\n",
       "  <thead>\n",
       "    <tr style=\"text-align: right;\">\n",
       "      <th></th>\n",
       "      <th>STATEFP</th>\n",
       "      <th>CD116FP</th>\n",
       "      <th>GEOID</th>\n",
       "      <th>NAMELSAD</th>\n",
       "      <th>LSAD</th>\n",
       "      <th>CDSESSN</th>\n",
       "      <th>MTFCC</th>\n",
       "      <th>FUNCSTAT</th>\n",
       "      <th>ALAND</th>\n",
       "      <th>AWATER</th>\n",
       "      <th>INTPTLAT</th>\n",
       "      <th>INTPTLON</th>\n",
       "      <th>geometry</th>\n",
       "    </tr>\n",
       "  </thead>\n",
       "  <tbody>\n",
       "    <tr>\n",
       "      <th>0</th>\n",
       "      <td>27</td>\n",
       "      <td>07</td>\n",
       "      <td>2707</td>\n",
       "      <td>Congressional District 7</td>\n",
       "      <td>C2</td>\n",
       "      <td>116</td>\n",
       "      <td>G5200</td>\n",
       "      <td>N</td>\n",
       "      <td>86580712408</td>\n",
       "      <td>5058381039</td>\n",
       "      <td>+46.5530202</td>\n",
       "      <td>-095.6759048</td>\n",
       "      <td>POLYGON ((-97.23909 48.96826, -97.23909 48.968...</td>\n",
       "    </tr>\n",
       "    <tr>\n",
       "      <th>1</th>\n",
       "      <td>27</td>\n",
       "      <td>02</td>\n",
       "      <td>2702</td>\n",
       "      <td>Congressional District 2</td>\n",
       "      <td>C2</td>\n",
       "      <td>116</td>\n",
       "      <td>G5200</td>\n",
       "      <td>N</td>\n",
       "      <td>6314464923</td>\n",
       "      <td>243358361</td>\n",
       "      <td>+44.4789680</td>\n",
       "      <td>-092.8530418</td>\n",
       "      <td>POLYGON ((-93.91131 44.54651, -93.91024 44.548...</td>\n",
       "    </tr>\n",
       "    <tr>\n",
       "      <th>2</th>\n",
       "      <td>27</td>\n",
       "      <td>06</td>\n",
       "      <td>2706</td>\n",
       "      <td>Congressional District 6</td>\n",
       "      <td>C2</td>\n",
       "      <td>116</td>\n",
       "      <td>G5200</td>\n",
       "      <td>N</td>\n",
       "      <td>7460634590</td>\n",
       "      <td>408723230</td>\n",
       "      <td>+45.3368069</td>\n",
       "      <td>-093.8520551</td>\n",
       "      <td>POLYGON ((-94.64041 45.37072, -94.64039 45.371...</td>\n",
       "    </tr>\n",
       "    <tr>\n",
       "      <th>3</th>\n",
       "      <td>27</td>\n",
       "      <td>08</td>\n",
       "      <td>2708</td>\n",
       "      <td>Congressional District 8</td>\n",
       "      <td>C2</td>\n",
       "      <td>116</td>\n",
       "      <td>G5200</td>\n",
       "      <td>N</td>\n",
       "      <td>72281499178</td>\n",
       "      <td>12448503736</td>\n",
       "      <td>+47.2503370</td>\n",
       "      <td>-092.9638699</td>\n",
       "      <td>POLYGON ((-95.18322 47.41277, -95.16598 47.412...</td>\n",
       "    </tr>\n",
       "    <tr>\n",
       "      <th>4</th>\n",
       "      <td>17</td>\n",
       "      <td>01</td>\n",
       "      <td>1701</td>\n",
       "      <td>Congressional District 1</td>\n",
       "      <td>C2</td>\n",
       "      <td>116</td>\n",
       "      <td>G5200</td>\n",
       "      <td>N</td>\n",
       "      <td>669256000</td>\n",
       "      <td>2067510</td>\n",
       "      <td>+41.5466708</td>\n",
       "      <td>-087.8357472</td>\n",
       "      <td>POLYGON ((-88.13677 41.42285, -88.13633 41.422...</td>\n",
       "    </tr>\n",
       "  </tbody>\n",
       "</table>\n",
       "</div>"
      ],
      "text/plain": [
       "  STATEFP CD116FP GEOID                  NAMELSAD LSAD CDSESSN  MTFCC  \\\n",
       "0      27      07  2707  Congressional District 7   C2     116  G5200   \n",
       "1      27      02  2702  Congressional District 2   C2     116  G5200   \n",
       "2      27      06  2706  Congressional District 6   C2     116  G5200   \n",
       "3      27      08  2708  Congressional District 8   C2     116  G5200   \n",
       "4      17      01  1701  Congressional District 1   C2     116  G5200   \n",
       "\n",
       "  FUNCSTAT        ALAND       AWATER     INTPTLAT      INTPTLON  \\\n",
       "0        N  86580712408   5058381039  +46.5530202  -095.6759048   \n",
       "1        N   6314464923    243358361  +44.4789680  -092.8530418   \n",
       "2        N   7460634590    408723230  +45.3368069  -093.8520551   \n",
       "3        N  72281499178  12448503736  +47.2503370  -092.9638699   \n",
       "4        N    669256000      2067510  +41.5466708  -087.8357472   \n",
       "\n",
       "                                            geometry  \n",
       "0  POLYGON ((-97.23909 48.96826, -97.23909 48.968...  \n",
       "1  POLYGON ((-93.91131 44.54651, -93.91024 44.548...  \n",
       "2  POLYGON ((-94.64041 45.37072, -94.64039 45.371...  \n",
       "3  POLYGON ((-95.18322 47.41277, -95.16598 47.412...  \n",
       "4  POLYGON ((-88.13677 41.42285, -88.13633 41.422...  "
      ]
     },
     "execution_count": 3,
     "metadata": {},
     "output_type": "execute_result"
    }
   ],
   "source": [
    "districts.head()"
   ]
  },
  {
   "cell_type": "code",
   "execution_count": 4,
   "metadata": {},
   "outputs": [
    {
     "data": {
      "text/plain": [
       "array([-179.231086,  -14.601813,  179.859681,   71.439786])"
      ]
     },
     "execution_count": 4,
     "metadata": {},
     "output_type": "execute_result"
    }
   ],
   "source": [
    "districts.total_bounds"
   ]
  },
  {
   "cell_type": "code",
   "execution_count": 5,
   "metadata": {},
   "outputs": [
    {
     "data": {
      "text/plain": [
       "(444, 13)"
      ]
     },
     "execution_count": 5,
     "metadata": {},
     "output_type": "execute_result"
    }
   ],
   "source": [
    "districts.shape"
   ]
  },
  {
   "cell_type": "code",
   "execution_count": 7,
   "metadata": {},
   "outputs": [
    {
     "data": {
      "image/png": "[encoded data removed]",
      "text/plain": [
       "<Figure size 432x288 with 1 Axes>"
      ]
     },
     "metadata": {
      "needs_background": "light"
     },
     "output_type": "display_data"
    }
   ],
   "source": [
    "fig, ax = plt.subplots()\n",
    "districts.plot(ax=ax)\n",
    "plt.show()"
   ]
  },
  {
   "cell_type": "code",
   "execution_count": 26,
   "metadata": {},
   "outputs": [],
   "source": [
    "# Get just louisiana\n",
    "louisiana = districts[districts[\"STATEFP\"] == \"22\"]"
   ]
  },
  {
   "cell_type": "code",
   "execution_count": 34,
   "metadata": {},
   "outputs": [
    {
     "data": {
      "text/html": [
       "<div>\n",
       "<style scoped>\n",
       "    .dataframe tbody tr th:only-of-type {\n",
       "        vertical-align: middle;\n",
       "    }\n",
       "\n",
       "    .dataframe tbody tr th {\n",
       "        vertical-align: top;\n",
       "    }\n",
       "\n",
       "    .dataframe thead th {\n",
       "        text-align: right;\n",
       "    }\n",
       "</style>\n",
       "<table border=\"1\" class=\"dataframe\">\n",
       "  <thead>\n",
       "    <tr style=\"text-align: right;\">\n",
       "      <th></th>\n",
       "      <th>STATEFP</th>\n",
       "      <th>CD116FP</th>\n",
       "      <th>GEOID</th>\n",
       "      <th>NAMELSAD</th>\n",
       "      <th>LSAD</th>\n",
       "      <th>CDSESSN</th>\n",
       "      <th>MTFCC</th>\n",
       "      <th>FUNCSTAT</th>\n",
       "      <th>ALAND</th>\n",
       "      <th>AWATER</th>\n",
       "      <th>INTPTLAT</th>\n",
       "      <th>INTPTLON</th>\n",
       "      <th>geometry</th>\n",
       "    </tr>\n",
       "  </thead>\n",
       "  <tbody>\n",
       "    <tr>\n",
       "      <th>38</th>\n",
       "      <td>22</td>\n",
       "      <td>04</td>\n",
       "      <td>2204</td>\n",
       "      <td>Congressional District 4</td>\n",
       "      <td>C2</td>\n",
       "      <td>116</td>\n",
       "      <td>G5200</td>\n",
       "      <td>N</td>\n",
       "      <td>32210761600</td>\n",
       "      <td>1106343072</td>\n",
       "      <td>+31.7920472</td>\n",
       "      <td>-093.1796062</td>\n",
       "      <td>POLYGON ((-94.04335 32.52238, -94.04332 32.525...</td>\n",
       "    </tr>\n",
       "    <tr>\n",
       "      <th>39</th>\n",
       "      <td>22</td>\n",
       "      <td>02</td>\n",
       "      <td>2202</td>\n",
       "      <td>Congressional District 2</td>\n",
       "      <td>C2</td>\n",
       "      <td>116</td>\n",
       "      <td>G5200</td>\n",
       "      <td>N</td>\n",
       "      <td>3285174126</td>\n",
       "      <td>522407749</td>\n",
       "      <td>+30.0467435</td>\n",
       "      <td>-090.5684985</td>\n",
       "      <td>POLYGON ((-91.32624 30.33318, -91.32605 30.336...</td>\n",
       "    </tr>\n",
       "    <tr>\n",
       "      <th>40</th>\n",
       "      <td>22</td>\n",
       "      <td>06</td>\n",
       "      <td>2206</td>\n",
       "      <td>Congressional District 6</td>\n",
       "      <td>C2</td>\n",
       "      <td>116</td>\n",
       "      <td>G5200</td>\n",
       "      <td>N</td>\n",
       "      <td>10447504074</td>\n",
       "      <td>1012577737</td>\n",
       "      <td>+30.2957806</td>\n",
       "      <td>-091.0085262</td>\n",
       "      <td>POLYGON ((-91.82288 30.85806, -91.82264 30.859...</td>\n",
       "    </tr>\n",
       "    <tr>\n",
       "      <th>104</th>\n",
       "      <td>22</td>\n",
       "      <td>01</td>\n",
       "      <td>2201</td>\n",
       "      <td>Congressional District 1</td>\n",
       "      <td>C2</td>\n",
       "      <td>116</td>\n",
       "      <td>G5200</td>\n",
       "      <td>N</td>\n",
       "      <td>10436304503</td>\n",
       "      <td>14398936017</td>\n",
       "      <td>+29.6364920</td>\n",
       "      <td>-089.9053610</td>\n",
       "      <td>POLYGON ((-91.35350 29.24975, -91.35346 29.250...</td>\n",
       "    </tr>\n",
       "    <tr>\n",
       "      <th>105</th>\n",
       "      <td>22</td>\n",
       "      <td>03</td>\n",
       "      <td>2203</td>\n",
       "      <td>Congressional District 3</td>\n",
       "      <td>C2</td>\n",
       "      <td>116</td>\n",
       "      <td>G5200</td>\n",
       "      <td>N</td>\n",
       "      <td>18087979520</td>\n",
       "      <td>5594833099</td>\n",
       "      <td>+29.9270215</td>\n",
       "      <td>-092.4364185</td>\n",
       "      <td>POLYGON ((-93.92921 29.80295, -93.92799 29.809...</td>\n",
       "    </tr>\n",
       "  </tbody>\n",
       "</table>\n",
       "</div>"
      ],
      "text/plain": [
       "    STATEFP CD116FP GEOID                  NAMELSAD LSAD CDSESSN  MTFCC  \\\n",
       "38       22      04  2204  Congressional District 4   C2     116  G5200   \n",
       "39       22      02  2202  Congressional District 2   C2     116  G5200   \n",
       "40       22      06  2206  Congressional District 6   C2     116  G5200   \n",
       "104      22      01  2201  Congressional District 1   C2     116  G5200   \n",
       "105      22      03  2203  Congressional District 3   C2     116  G5200   \n",
       "\n",
       "    FUNCSTAT        ALAND       AWATER     INTPTLAT      INTPTLON  \\\n",
       "38         N  32210761600   1106343072  +31.7920472  -093.1796062   \n",
       "39         N   3285174126    522407749  +30.0467435  -090.5684985   \n",
       "40         N  10447504074   1012577737  +30.2957806  -091.0085262   \n",
       "104        N  10436304503  14398936017  +29.6364920  -089.9053610   \n",
       "105        N  18087979520   5594833099  +29.9270215  -092.4364185   \n",
       "\n",
       "                                              geometry  \n",
       "38   POLYGON ((-94.04335 32.52238, -94.04332 32.525...  \n",
       "39   POLYGON ((-91.32624 30.33318, -91.32605 30.336...  \n",
       "40   POLYGON ((-91.82288 30.85806, -91.82264 30.859...  \n",
       "104  POLYGON ((-91.35350 29.24975, -91.35346 29.250...  \n",
       "105  POLYGON ((-93.92921 29.80295, -93.92799 29.809...  "
      ]
     },
     "execution_count": 34,
     "metadata": {},
     "output_type": "execute_result"
    }
   ],
   "source": [
    "# Sample of the LA dataframe\n",
    "louisiana.head()"
   ]
  },
  {
   "cell_type": "code",
   "execution_count": 32,
   "metadata": {},
   "outputs": [
    {
     "data": {
      "text/plain": [
       "(6, 13)"
      ]
     },
     "execution_count": 32,
     "metadata": {},
     "output_type": "execute_result"
    }
   ],
   "source": [
    "# Number of districts in louisiana\n",
    "louisiana.shape"
   ]
  },
  {
   "cell_type": "code",
   "execution_count": 33,
   "metadata": {},
   "outputs": [
    {
     "data": {
      "image/png": "[encoded data removed]",
      "text/plain": [
       "<Figure size 720x720 with 1 Axes>"
      ]
     },
     "metadata": {
      "needs_background": "light"
     },
     "output_type": "display_data"
    }
   ],
   "source": [
    "fig, ax = plt.subplots()\n",
    "fig.set_size_inches(10,10)\n",
    "louisiana.plot(ax=ax)\n",
    "plt.show()"
   ]
  },
  {
   "cell_type": "code",
   "execution_count": null,
   "metadata": {},
   "outputs": [],
   "source": []
  }
 ],
 "metadata": {
  "kernelspec": {
   "display_name": "Python 3",
   "language": "python",
   "name": "python3"
  },
  "language_info": {
   "codemirror_mode": {
    "name": "ipython",
    "version": 3
   },
   "file_extension": ".py",
   "mimetype": "text/x-python",
   "name": "python",
   "nbconvert_exporter": "python",
   "pygments_lexer": "ipython3",
   "version": "3.7.9"
  }
 },
 "nbformat": 4,
 "nbformat_minor": 4
}
